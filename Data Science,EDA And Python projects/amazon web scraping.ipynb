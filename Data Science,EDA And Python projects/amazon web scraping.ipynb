{
 "cells": [
  {
   "cell_type": "code",
   "execution_count": 6,
   "id": "5e0767cb-5c23-4735-b1bb-27d113ccbac1",
   "metadata": {},
   "outputs": [
    {
     "name": "stdout",
     "output_type": "stream",
     "text": [
      "Requirement already satisfied: beautifulsoup4 in c:\\users\\91840\\anaconda3\\lib\\site-packages (4.12.3)\n",
      "Requirement already satisfied: soupsieve>1.2 in c:\\users\\91840\\anaconda3\\lib\\site-packages (from beautifulsoup4) (2.5)\n",
      "Note: you may need to restart the kernel to use updated packages.\n"
     ]
    }
   ],
   "source": [
    "pip install beautifulsoup4"
   ]
  },
  {
   "cell_type": "code",
   "execution_count": 32,
   "id": "5555965e-440d-47d7-8e9f-a3359f1ad08e",
   "metadata": {},
   "outputs": [],
   "source": [
    "import requests \n",
    "from bs4 import BeautifulSoup\n",
    "import pandas as pd"
   ]
  },
  {
   "cell_type": "code",
   "execution_count": 24,
   "id": "4b867d80-fb14-4597-a8d3-f0789ac04c2e",
   "metadata": {},
   "outputs": [],
   "source": [
    "base_url=\"https://www.amazon.in/gp/bestsellers/books/ref=zg_bs_nav_books_0\"\n",
    "headers = {\n",
    "    \"User-Agent\": \"Mozilla/5.0 (Windows NT 10.0; Win64; x64) AppleWebKit/537.36 (KHTML, like Gecko) Chrome/58.0.3029.110 Safari/537.3\"\n",
    "}"
   ]
  },
  {
   "cell_type": "code",
   "execution_count": 28,
   "id": "f3a975a4-a60e-4301-a069-eba4217f91e7",
   "metadata": {},
   "outputs": [],
   "source": [
    "#initialize a list to store books data\n",
    "book_list=[]\n",
    "#iterate over the first 3 pages\n",
    "\n",
    "for page in range(1, 4):  # Pages 1, 2, and 3\n",
    "    url = base_url.format(page, page)\n",
    "\n",
    "    response = requests.get(url, headers=headers)\n",
    "    soup = BeautifulSoup(response.content, \"lxml\")\n",
    "\n",
    "    # Find all book elements on the page\n",
    "    books = soup.find_all(\"div\", {\"class\": \"zg-grid-general-faceout\"})\n",
    "\n",
    "    # Iterate over each book element to extract data\n",
    "    for book in books:\n",
    "        if len(book_list) < 50:  # Limit to the first 50 books\n",
    "            author = book.find(\"a\", class_=\"a-size-small a-link-child\").get_text(strip=True) if book.find(\"a\", class_=\"a-size-small a-link-child\") else \"N/A\"\n",
    "            rating = book.find(\"span\", class_=\"a-icon-alt\").get_text(strip=True) if book.find(\"span\", class_=\"a-icon-alt\") else \"N/A\"\n",
    "\n",
    "            book_list.append({\n",
    "                \"Author\": author,\n",
    "                \"Rating\": rating\n",
    "            })\n",
    "        else:\n",
    "            break"
   ]
  },
  {
   "cell_type": "code",
   "execution_count": 38,
   "id": "0dac324a-258b-4e5e-9c8a-23b014ea0511",
   "metadata": {},
   "outputs": [
    {
     "name": "stdout",
     "output_type": "stream",
     "text": [
      "               Author              Rating\n",
      "0       Rithvik Singh  4.1 out of 5 stars\n",
      "1                 N/A  3.5 out of 5 stars\n",
      "2  Wonder House Books  4.5 out of 5 stars\n",
      "3                 N/A  5.0 out of 5 stars\n",
      "4         James Clear  4.6 out of 5 stars\n"
     ]
    }
   ],
   "source": [
    "df = pd.DataFrame(book_list)\n",
    "\n",
    "print(df.head())"
   ]
  },
  {
   "cell_type": "code",
   "execution_count": null,
   "id": "af158182-7fa5-4cec-96e8-b8c8045496a0",
   "metadata": {},
   "outputs": [],
   "source": []
  },
  {
   "cell_type": "code",
   "execution_count": null,
   "id": "cf0e4098-bd62-49e3-9262-63bf2805ed35",
   "metadata": {},
   "outputs": [],
   "source": []
  },
  {
   "cell_type": "code",
   "execution_count": null,
   "id": "592b6dcd-482f-4880-9f68-210b1464311c",
   "metadata": {},
   "outputs": [],
   "source": []
  },
  {
   "cell_type": "code",
   "execution_count": null,
   "id": "ee162904-087b-4924-b026-86b8f8d1c874",
   "metadata": {},
   "outputs": [],
   "source": []
  },
  {
   "cell_type": "code",
   "execution_count": null,
   "id": "0e6204d2-f06a-4659-a178-6e6b90543d6c",
   "metadata": {},
   "outputs": [],
   "source": []
  },
  {
   "cell_type": "code",
   "execution_count": null,
   "id": "81578abd-fcc0-487d-a2b7-ef3767fd9d1b",
   "metadata": {},
   "outputs": [],
   "source": []
  },
  {
   "cell_type": "code",
   "execution_count": null,
   "id": "a819411a-d236-42db-a711-bbfb5b36ee6b",
   "metadata": {},
   "outputs": [],
   "source": []
  },
  {
   "cell_type": "code",
   "execution_count": null,
   "id": "4a1527c9-2b8f-4218-8db2-69a6c4637fce",
   "metadata": {},
   "outputs": [],
   "source": []
  },
  {
   "cell_type": "code",
   "execution_count": null,
   "id": "1507740d-463a-4016-84a2-4806f374a0c4",
   "metadata": {},
   "outputs": [],
   "source": []
  },
  {
   "cell_type": "code",
   "execution_count": null,
   "id": "56cb3ab6-852e-4023-af93-20ebf4cc3f5b",
   "metadata": {},
   "outputs": [],
   "source": []
  },
  {
   "cell_type": "code",
   "execution_count": null,
   "id": "5eeaee4f-4d73-4113-ad75-1274d72d9080",
   "metadata": {},
   "outputs": [],
   "source": []
  },
  {
   "cell_type": "code",
   "execution_count": null,
   "id": "e3ed429c-0d46-4e99-9fa4-7e9f4ced4c73",
   "metadata": {},
   "outputs": [],
   "source": []
  },
  {
   "cell_type": "code",
   "execution_count": null,
   "id": "c333d2d0-7052-4190-90b0-cd13e1d13f17",
   "metadata": {},
   "outputs": [],
   "source": []
  },
  {
   "cell_type": "code",
   "execution_count": null,
   "id": "3b21efa2-5dbc-4fad-9155-1d6cbc009796",
   "metadata": {},
   "outputs": [],
   "source": []
  },
  {
   "cell_type": "code",
   "execution_count": null,
   "id": "5af0c06a-d02a-445a-a4cc-adcabc3b3df9",
   "metadata": {},
   "outputs": [],
   "source": []
  },
  {
   "cell_type": "code",
   "execution_count": null,
   "id": "43259eda-9045-460a-984d-cf814c5d7a9f",
   "metadata": {},
   "outputs": [],
   "source": []
  },
  {
   "cell_type": "code",
   "execution_count": null,
   "id": "255eac2a-311a-4b26-8a6c-1cca963391f3",
   "metadata": {},
   "outputs": [],
   "source": []
  },
  {
   "cell_type": "code",
   "execution_count": null,
   "id": "37ef7831-9d01-4823-8bd1-ded70369ad4f",
   "metadata": {},
   "outputs": [],
   "source": []
  },
  {
   "cell_type": "code",
   "execution_count": null,
   "id": "9e354216-98c9-4448-9f32-57ea6ce7b96d",
   "metadata": {},
   "outputs": [],
   "source": []
  },
  {
   "cell_type": "code",
   "execution_count": null,
   "id": "06f4e855-c0f8-4cd8-917f-59496bbcca42",
   "metadata": {},
   "outputs": [],
   "source": []
  },
  {
   "cell_type": "code",
   "execution_count": null,
   "id": "8ea70bd2-48f8-4b1c-8d3b-9eec99247255",
   "metadata": {},
   "outputs": [],
   "source": []
  },
  {
   "cell_type": "code",
   "execution_count": null,
   "id": "7c9169ea-b6cd-4c20-8983-b6840110604d",
   "metadata": {},
   "outputs": [],
   "source": []
  },
  {
   "cell_type": "code",
   "execution_count": null,
   "id": "badc42b6-96da-4491-8f72-01cf5b61a67f",
   "metadata": {},
   "outputs": [],
   "source": []
  },
  {
   "cell_type": "code",
   "execution_count": null,
   "id": "40720632-26a5-4de2-83da-c9dd520f4f64",
   "metadata": {},
   "outputs": [],
   "source": []
  },
  {
   "cell_type": "code",
   "execution_count": null,
   "id": "6e8f57d8-85fb-46e0-a034-42ef96c1c61d",
   "metadata": {},
   "outputs": [],
   "source": []
  },
  {
   "cell_type": "code",
   "execution_count": null,
   "id": "3c6620a5-c4be-4dbb-ad10-3b30cef24aeb",
   "metadata": {},
   "outputs": [],
   "source": []
  },
  {
   "cell_type": "code",
   "execution_count": null,
   "id": "0b4fddc8-1b46-4adc-a370-3a78f904091b",
   "metadata": {},
   "outputs": [],
   "source": []
  },
  {
   "cell_type": "code",
   "execution_count": null,
   "id": "1f33ca9e-b1f1-4ffc-be5f-8f2b56680156",
   "metadata": {},
   "outputs": [],
   "source": []
  },
  {
   "cell_type": "code",
   "execution_count": null,
   "id": "b9e581d9-6d0f-4654-b831-55b754779b9b",
   "metadata": {},
   "outputs": [],
   "source": []
  }
 ],
 "metadata": {
  "kernelspec": {
   "display_name": "Python 3 (ipykernel)",
   "language": "python",
   "name": "python3"
  },
  "language_info": {
   "codemirror_mode": {
    "name": "ipython",
    "version": 3
   },
   "file_extension": ".py",
   "mimetype": "text/x-python",
   "name": "python",
   "nbconvert_exporter": "python",
   "pygments_lexer": "ipython3",
   "version": "3.12.4"
  }
 },
 "nbformat": 4,
 "nbformat_minor": 5
}
