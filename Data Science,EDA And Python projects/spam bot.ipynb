{
 "cells": [
  {
   "cell_type": "code",
   "execution_count": null,
   "id": "6953a531-17f2-4524-b46b-6ed53eeca6b6",
   "metadata": {},
   "outputs": [
    {
     "name": "stdout",
     "output_type": "stream",
     "text": [
      "2025-01-09 09:56:49.037339\n",
      "2025-01-09 09:57:20.311437\n",
      "2025-01-09 09:57:51.622784\n",
      "2025-01-09 09:58:22.884729\n",
      "2025-01-09 09:58:54.172014\n",
      "2025-01-09 09:59:25.453501\n",
      "2025-01-09 09:59:56.741576\n",
      "2025-01-09 10:00:28.017637\n",
      "2025-01-09 10:00:59.302536\n",
      "2025-01-09 10:01:30.542999\n",
      "2025-01-09 10:02:01.816804\n",
      "2025-01-09 10:02:33.053961\n",
      "2025-01-09 10:03:04.314683\n",
      "2025-01-09 10:03:35.589889\n",
      "2025-01-09 10:04:06.851987\n",
      "2025-01-09 10:04:38.111396\n"
     ]
    }
   ],
   "source": [
    "import pyautogui, time, datetime \n",
    "\n",
    "time.sleep(2) \n",
    "\n",
    "while True: \n",
    "\t\n",
    "\t# to display the time at which the message is sent \n",
    "\tprint(datetime.datetime.now()) \n",
    "\tpyautogui.typewrite(\"Reminder: Drink water!\") \n",
    "\tpyautogui.press(\"enter\") \n",
    "\ttime.sleep(31) \n",
    "\n",
    "\tprint(datetime.datetime.now()) \n",
    "\n",
    "\tpyautogui.typewrite(\"Reminder: Take medicine!\") \n",
    "\tpyautogui.press(\"enter\") \n",
    "\ttime.sleep(31) \n",
    "\n",
    "\tprint(datetime.datetime.now()) \n",
    "\n",
    "\tpyautogui.typewrite(\"Reminder: Take the dog for a walk!\") \n",
    "\tpyautogui.press(\"enter\") \n",
    "\ttime.sleep(31) \n",
    "\n",
    "\tprint(datetime.datetime.now()) \n",
    "\n",
    "\tpyautogui.typewrite(\"Reminder: Drink water!\") \n",
    "\tpyautogui.press(\"enter\") \n",
    "\ttime.sleep(31) \n",
    "\n",
    "\tprint(datetime.datetime.now()) \n",
    "\n",
    "\tpyautogui.typewrite(\"Reminder: Drink water!\") \n",
    "\tpyautogui.press(\"enter\") \n",
    "\ttime.sleep(31) \n"
   ]
  },
  {
   "cell_type": "code",
   "execution_count": null,
   "id": "44ec8434-493c-4c80-bb39-115f70d20b96",
   "metadata": {},
   "outputs": [],
   "source": [
    "Reminder: Drink water!\n",
    "Reminder: Take medicine!\n",
    "Reminder: Take the dog for a walk!\n",
    "Reminder: Drink water!\n",
    "                      Reminder: Drink water!\n",
    "                      Reminder: Drink water!\n",
    "                      Reminder: Take medicine!\n",
    "                      Reminder: Take the dog for a walk!\n",
    "                      Reminder: Drink water!\n",
    "                                            Reminder: Drink water!\n",
    "                                            Reminder: Drink water!\n",
    "                                            Reminder: Take medicine!\n",
    "                                            Reminder: Take the dog for a walk!\n",
    "                                            Reminder: Drink water!\n",
    "                                            Reminder: Drink water!\n",
    "                                            Reminder: Drink water!\n",
    "                                            "
   ]
  }
 ],
 "metadata": {
  "kernelspec": {
   "display_name": "Python 3 (ipykernel)",
   "language": "python",
   "name": "python3"
  },
  "language_info": {
   "codemirror_mode": {
    "name": "ipython",
    "version": 3
   },
   "file_extension": ".py",
   "mimetype": "text/x-python",
   "name": "python",
   "nbconvert_exporter": "python",
   "pygments_lexer": "ipython3",
   "version": "3.12.4"
  }
 },
 "nbformat": 4,
 "nbformat_minor": 5
}
